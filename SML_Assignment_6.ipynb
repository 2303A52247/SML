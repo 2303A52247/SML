{
  "nbformat": 4,
  "nbformat_minor": 0,
  "metadata": {
    "colab": {
      "provenance": [],
      "authorship_tag": "ABX9TyNljIaPsoZgD5sHGD/2LGXA",
      "include_colab_link": true
    },
    "kernelspec": {
      "name": "python3",
      "display_name": "Python 3"
    },
    "language_info": {
      "name": "python"
    }
  },
  "cells": [
    {
      "cell_type": "markdown",
      "metadata": {
        "id": "view-in-github",
        "colab_type": "text"
      },
      "source": [
        "<a href=\"https://colab.research.google.com/github/2303A52247/SML/blob/main/SML_Assignment_6.ipynb\" target=\"_parent\"><img src=\"https://colab.research.google.com/assets/colab-badge.svg\" alt=\"Open In Colab\"/></a>"
      ]
    },
    {
      "cell_type": "code",
      "execution_count": 1,
      "metadata": {
        "id": "T2g25mktFlN-",
        "colab": {
          "base_uri": "https://localhost:8080/"
        },
        "outputId": "518cbb67-119f-49a2-c5f4-3807e59501dc"
      },
      "outputs": [
        {
          "output_type": "stream",
          "name": "stdout",
          "text": [
            "Mounted at /content/drive\n"
          ]
        }
      ],
      "source": [
        "from google.colab import drive\n",
        "drive.mount('/content/drive')"
      ]
    },
    {
      "cell_type": "code",
      "source": [
        "import pandas as pd\n",
        "\n",
        "\n",
        "data = {\n",
        "    'Study Hours per Week': [10, 5, 15, 2, 12, 8, 14, 3, 11, 6],\n",
        "    'Class Attendance (%)': [90, 60, 95, 30, 85, 75, 92, 50, 88, 65],\n",
        "    'Previous Exam Score (%)': [85, 70, 90, 50, 88, 65, 93, 55, 80, 60],\n",
        "    'Participation in Group Study': [1, 0, 1, 0, 1, 0, 1, 0, 1, 0],\n",
        "    'Submission of Assignments (%)': [100, 80, 100, 40, 90, 70, 95, 60, 85, 75],\n",
        "    'Pass/Fail': [1, 0, 1, 0, 1, 0, 1, 0, 1, 0]\n",
        "}\n",
        "\n",
        "df = pd.DataFrame(data)\n",
        "X = df.drop('Pass/Fail', axis=1)\n",
        "y = df['Pass/Fail']\n",
        "from sklearn.model_selection import train_test_split\n",
        "from sklearn.linear_model import Perceptron\n",
        "from sklearn.metrics import accuracy_score\n",
        "\n",
        "\n",
        "X_train, X_test, y_train, y_test = train_test_split(X, y, test_size=0.2, random_state=42)\n",
        "\n",
        "\n",
        "perceptron = Perceptron(max_iter=1000, tol=1e-3, random_state=42)\n",
        "\n",
        "\n",
        "perceptron.fit(X_train, y_train)\n",
        "\n",
        "\n",
        "y_pred = perceptron.predict(X_test)\n",
        "accuracy = accuracy_score(y_test, y_pred)\n",
        "print(f'Accuracy: {accuracy * 100:.2f}%')"
      ],
      "metadata": {
        "colab": {
          "base_uri": "https://localhost:8080/"
        },
        "id": "9t6FUpkuGxy1",
        "outputId": "c71853af-b54e-4ec5-a4c0-8e129c6260a9"
      },
      "execution_count": 2,
      "outputs": [
        {
          "output_type": "stream",
          "name": "stdout",
          "text": [
            "Accuracy: 50.00%\n"
          ]
        }
      ]
    },
    {
      "cell_type": "code",
      "source": [
        "import pandas as pd\n",
        "from sklearn.model_selection import train_test_split\n",
        "from sklearn.linear_model import Perceptron\n",
        "from sklearn.metrics import accuracy_score\n",
        "\n",
        "\n",
        "data = {\n",
        "    'Study Hours per Week': [10, 5, 15, 2, 12, 8, 14, 3, 11, 6],\n",
        "    'Class Attendance (%)': [90, 60, 95, 30, 85, 75, 92, 50, 88, 65],\n",
        "    'Previous Exam Score (%)': [85, 70, 90, 50, 88, 65, 93, 55, 80, 60],\n",
        "    'Participation in Group Study': [1, 0, 1, 0, 1, 0, 1, 0, 1, 0],\n",
        "    'Submission of Assignments (%)': [100, 80, 100, 40, 90, 70, 95, 60, 85, 75],\n",
        "    'Pass/Fail': [1, 0, 1, 0, 1, 0, 1, 0, 1, 0]\n",
        "}\n",
        "\n",
        "df = pd.DataFrame(data)\n",
        "\n",
        "\n",
        "X = df.drop('Pass/Fail', axis=1)\n",
        "y = df['Pass/Fail']\n",
        "\n",
        "\n",
        "X_train, X_test, y_train, y_test = train_test_split(X, y, test_size=0.2, random_state=42)\n",
        "\n",
        "\n",
        "perceptron = Perceptron(max_iter=1000, tol=1e-3, random_state=42)\n",
        "\n",
        "\n",
        "perceptron.fit(X_train, y_train)\n",
        "\n",
        "\n",
        "y_pred = perceptron.predict(X_test)\n",
        "\n",
        "\n",
        "accuracy = accuracy_score(y_test, y_pred)\n",
        "print(f'Accuracy: {accuracy * 100:.2f}%')"
      ],
      "metadata": {
        "colab": {
          "base_uri": "https://localhost:8080/"
        },
        "id": "2hib9f82G-Gy",
        "outputId": "55f4c65d-ae4c-496a-b620-d41942753056"
      },
      "execution_count": 3,
      "outputs": [
        {
          "output_type": "stream",
          "name": "stdout",
          "text": [
            "Accuracy: 50.00%\n"
          ]
        }
      ]
    },
    {
      "cell_type": "code",
      "source": [
        "import pandas as pd\n",
        "from sklearn.model_selection import train_test_split\n",
        "from sklearn.preprocessing import LabelEncoder\n",
        "from sklearn.linear_model import Perceptron\n",
        "from sklearn.metrics import accuracy_score\n",
        "\n",
        "\n",
        "data = pd.read_csv('/content/diabetes_data_upload.csv')\n",
        "\n",
        "\n",
        "label_encoders = {}\n",
        "for column in data.columns:\n",
        "    if data[column].dtype == object:\n",
        "        le = LabelEncoder()\n",
        "        data[column] = le.fit_transform(data[column])\n",
        "        label_encoders[column] = le\n",
        "\n",
        "\n",
        "X = data.drop('class', axis=1)\n",
        "y = data['class']\n",
        "\n",
        "\n",
        "X_train, X_test, y_train, y_test = train_test_split(X, y, test_size=0.2, random_state=42)\n",
        "\n",
        "\n",
        "perceptron = Perceptron(max_iter=1000, tol=1e-3, random_state=42)\n",
        "\n",
        "\n",
        "perceptron.fit(X_train, y_train)\n",
        "\n",
        "\n",
        "y_pred = perceptron.predict(X_test)\n",
        "\n",
        "\n",
        "accuracy = accuracy_score(y_test, y_pred)\n",
        "print(f'Accuracy: {accuracy * 100:.2f}%')\n"
      ],
      "metadata": {
        "colab": {
          "base_uri": "https://localhost:8080/"
        },
        "id": "Q7c8nk9SHFIL",
        "outputId": "a87cba36-3a14-4e41-955c-be599bbcc427"
      },
      "execution_count": 5,
      "outputs": [
        {
          "output_type": "stream",
          "name": "stdout",
          "text": [
            "Accuracy: 66.35%\n"
          ]
        }
      ]
    }
  ]
}